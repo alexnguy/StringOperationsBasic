{
    "cells": [
        {
            "cell_type": "markdown",
            "metadata": {},
            "source": "# What are Strings? Yarn Strings? Nope, good guess though"
        },
        {
            "cell_type": "code",
            "execution_count": 1,
            "metadata": {},
            "outputs": [
                {
                    "data": {
                        "text/plain": "'Gabriele Veneziano'"
                    },
                    "execution_count": 1,
                    "metadata": {},
                    "output_type": "execute_result"
                }
            ],
            "source": "# String can be defined with either single or double quotation marks, speaking of strings, let's use the name of the key theorist behind string theory in theoretical physics\n\n\"Gabriele Veneziano\"\n\n'Gabriele Veneziano'"
        },
        {
            "cell_type": "code",
            "execution_count": 5,
            "metadata": {},
            "outputs": [
                {
                    "data": {
                        "text/plain": "' 0 1 2 3 4 5'"
                    },
                    "execution_count": 5,
                    "metadata": {},
                    "output_type": "execute_result"
                }
            ],
            "source": "# Digits, spaces, and special characters can also be used in string\n\n\" 0 1 2 3 4 5\""
        },
        {
            "cell_type": "code",
            "execution_count": 7,
            "metadata": {},
            "outputs": [
                {
                    "data": {
                        "text/plain": "'#*^*#^*^$^#'"
                    },
                    "execution_count": 7,
                    "metadata": {},
                    "output_type": "execute_result"
                }
            ],
            "source": "\"#*^*#^*^$^#\""
        },
        {
            "cell_type": "code",
            "execution_count": 8,
            "metadata": {},
            "outputs": [
                {
                    "name": "stdout",
                    "output_type": "stream",
                    "text": "See?\n"
                }
            ],
            "source": "# The string can the ben pritned using the almighty print\n\nprint(\"See?\")"
        },
        {
            "cell_type": "code",
            "execution_count": 11,
            "metadata": {},
            "outputs": [
                {
                    "data": {
                        "text/plain": "'Gabriele Veneziano'"
                    },
                    "execution_count": 11,
                    "metadata": {},
                    "output_type": "execute_result"
                }
            ],
            "source": "# Expanding futher, we can assign a string to a variable\n\nStringPapa= 'Gabriele Veneziano'\nStringPapa"
        },
        {
            "cell_type": "markdown",
            "metadata": {},
            "source": "### Indexing"
        },
        {
            "cell_type": "code",
            "execution_count": 12,
            "metadata": {},
            "outputs": [
                {
                    "name": "stdout",
                    "output_type": "stream",
                    "text": "G\n"
                }
            ],
            "source": "# String can be thought of in terms of an orderded sequence. Each function of that sequence can be represented by an index in the form of numbers.\n\nprint(StringPapa[0])"
        },
        {
            "cell_type": "code",
            "execution_count": 13,
            "metadata": {},
            "outputs": [
                {
                    "name": "stdout",
                    "output_type": "stream",
                    "text": "o\n"
                }
            ],
            "source": "# The native positive indexing starts from 0 and goes up, 0 was G, and so 17 would be o, given our StringPapa's name\n\nprint(StringPapa[17])"
        },
        {
            "cell_type": "markdown",
            "metadata": {},
            "source": "### Negative Indexing"
        },
        {
            "cell_type": "code",
            "execution_count": 14,
            "metadata": {},
            "outputs": [
                {
                    "name": "stdout",
                    "output_type": "stream",
                    "text": "o\n"
                }
            ],
            "source": "# Negative indexing can also be applied, and works from most negative to least negative in terms of our sequence\n\nprint(StringPapa[-1])"
        },
        {
            "cell_type": "code",
            "execution_count": 16,
            "metadata": {},
            "outputs": [
                {
                    "name": "stdout",
                    "output_type": "stream",
                    "text": "G\n"
                }
            ],
            "source": "print(StringPapa[-18])"
        },
        {
            "cell_type": "code",
            "execution_count": 17,
            "metadata": {},
            "outputs": [
                {
                    "data": {
                        "text/plain": "18"
                    },
                    "execution_count": 17,
                    "metadata": {},
                    "output_type": "execute_result"
                }
            ],
            "source": "# We can also find the number of characters in a string by using the len function\n\nlen('Gabriele Veneziano')"
        },
        {
            "cell_type": "markdown",
            "metadata": {},
            "source": "### Slicing"
        },
        {
            "cell_type": "code",
            "execution_count": 21,
            "metadata": {},
            "outputs": [
                {
                    "data": {
                        "text/plain": "'Gabr'"
                    },
                    "execution_count": 21,
                    "metadata": {},
                    "output_type": "execute_result"
                }
            ],
            "source": "# Slicing can be done in order to obtain multiple characters from a string\n\nStringPapa[0:4]"
        },
        {
            "cell_type": "code",
            "execution_count": 20,
            "metadata": {},
            "outputs": [
                {
                    "data": {
                        "text/plain": "'Gabriele Venez'"
                    },
                    "execution_count": 20,
                    "metadata": {},
                    "output_type": "execute_result"
                }
            ],
            "source": "StringPapa[-18:-4]"
        },
        {
            "cell_type": "markdown",
            "metadata": {},
            "source": "### Stride"
        },
        {
            "cell_type": "code",
            "execution_count": 25,
            "metadata": {},
            "outputs": [
                {
                    "data": {
                        "text/plain": "'Gi en'"
                    },
                    "execution_count": 25,
                    "metadata": {},
                    "output_type": "execute_result"
                }
            ],
            "source": "# Striding allows for selective picking of the variables\n\nStringPapa[::4]\n\n#This gets every fourth element."
        },
        {
            "cell_type": "code",
            "execution_count": 28,
            "metadata": {},
            "outputs": [
                {
                    "data": {
                        "text/plain": "'Gbil '"
                    },
                    "execution_count": 28,
                    "metadata": {},
                    "output_type": "execute_result"
                }
            ],
            "source": "# We can slso combine the techniques of slicing with stride\n\nStringPapa[0:10:2]\n\n# This gets every 2nd element in the range of index 0 to 10."
        },
        {
            "cell_type": "markdown",
            "metadata": {},
            "source": "### Concatenate Strings"
        },
        {
            "cell_type": "code",
            "execution_count": 32,
            "metadata": {},
            "outputs": [
                {
                    "data": {
                        "text/plain": "'Gabriele Veneziano loves playing with string'"
                    },
                    "execution_count": 32,
                    "metadata": {},
                    "output_type": "execute_result"
                }
            ],
            "source": "# Concatenate (combine) strings, add strings together\n\nstatement = StringPapa + \" loves playing with string\"\nstatement"
        },
        {
            "cell_type": "code",
            "execution_count": 33,
            "metadata": {},
            "outputs": [
                {
                    "data": {
                        "text/plain": "'Gabriele Veneziano loves playing with stringGabriele Veneziano loves playing with stringGabriele Veneziano loves playing with stringGabriele Veneziano loves playing with stringGabriele Veneziano loves playing with stringGabriele Veneziano loves playing with stringGabriele Veneziano loves playing with stringGabriele Veneziano loves playing with stringGabriele Veneziano loves playing with string'"
                    },
                    "execution_count": 33,
                    "metadata": {},
                    "output_type": "execute_result"
                }
            ],
            "source": "# To replicate our values of string, we can multiply by our desired number\n\n9 * statement"
        },
        {
            "cell_type": "code",
            "execution_count": 35,
            "metadata": {},
            "outputs": [
                {
                    "data": {
                        "text/plain": "'Gabriele Veneziano loves playing with string'"
                    },
                    "execution_count": 35,
                    "metadata": {},
                    "output_type": "execute_result"
                }
            ],
            "source": "# A new string can be created by setting it to the original variable\n\nStringPapa = 'Gabriele Veneziano'\nStringPapa = StringPapa + ' loves playing with string'\nStringPapa\n\n# Our phrase is added to the original name and can be used in place of statement"
        },
        {
            "cell_type": "markdown",
            "metadata": {},
            "source": "### Escape Sequences"
        },
        {
            "cell_type": "code",
            "execution_count": 36,
            "metadata": {},
            "outputs": [
                {
                    "name": "stdout",
                    "output_type": "stream",
                    "text": " Gabriele Veneziano \n is a big fan of string\n"
                }
            ],
            "source": "# Escape sequences are represented via back slashes \n\nprint(\" Gabriele Veneziano \\n is a big fan of string\")\n\n# New line escape sequence"
        },
        {
            "cell_type": "code",
            "execution_count": 37,
            "metadata": {},
            "outputs": [
                {
                    "name": "stdout",
                    "output_type": "stream",
                    "text": "Gabriele Veneziano \t often wonders if yarn string is universal\n"
                }
            ],
            "source": "# Back slash with a t represents a tab in the format\n\nprint(\"Gabriele Veneziano \\t often wonders if yarn string is universal\")"
        },
        {
            "cell_type": "code",
            "execution_count": 43,
            "metadata": {},
            "outputs": [
                {
                    "name": "stdout",
                    "output_type": "stream",
                    "text": "Gabriele Veneziano needs access to his C:\\documents\\\n"
                }
            ],
            "source": "# If you want a back slach in the string, you simply double it up\n\nprint('Gabriele Veneziano needs access to his C:\\\\documents\\\\')"
        },
        {
            "cell_type": "markdown",
            "metadata": {},
            "source": "### String Operations"
        },
        {
            "cell_type": "code",
            "execution_count": 44,
            "metadata": {},
            "outputs": [
                {
                    "name": "stdout",
                    "output_type": "stream",
                    "text": "before upper: The speed of light is 3 x 10^8 meters/second\nAfter upper: THE SPEED OF LIGHT IS 3 X 10^8 METERS/SECOND\n"
                }
            ],
            "source": "# Convert all characters to upper case\n\na = \"The speed of light is 3 x 10^8 meters/second\"\nprint(\"before upper:\",a)\nb = a.upper()\nprint(\"After upper:\", b)"
        },
        {
            "cell_type": "code",
            "execution_count": 45,
            "metadata": {},
            "outputs": [
                {
                    "data": {
                        "text/plain": "'The speed of light is 3 x 10^8 meters/second'"
                    },
                    "execution_count": 45,
                    "metadata": {},
                    "output_type": "execute_result"
                }
            ],
            "source": "# Replacing a segement of string with our desired string\n\na = \"The speed of sound is 3 x 10^8 meters/second\"\nb = a.replace('sound', 'light')\nb\n\n# In this case we are correcting the word sound for light"
        },
        {
            "cell_type": "code",
            "execution_count": 46,
            "metadata": {},
            "outputs": [
                {
                    "data": {
                        "text/plain": "13"
                    },
                    "execution_count": 46,
                    "metadata": {},
                    "output_type": "execute_result"
                }
            ],
            "source": "# Find can be used to find a sub-string\n\nPapaString = \"Gabriele Veneziano\"\nPapaString.find('zi')\n\n# When we find the sub-string the index is based on the character that is first. Z correlated to 13."
        },
        {
            "cell_type": "code",
            "execution_count": 47,
            "metadata": {},
            "outputs": [
                {
                    "data": {
                        "text/plain": "9"
                    },
                    "execution_count": 47,
                    "metadata": {},
                    "output_type": "execute_result"
                }
            ],
            "source": "PapaString.find(\"Vene\")"
        },
        {
            "cell_type": "code",
            "execution_count": 48,
            "metadata": {},
            "outputs": [
                {
                    "data": {
                        "text/plain": "-1"
                    },
                    "execution_count": 48,
                    "metadata": {},
                    "output_type": "execute_result"
                }
            ],
            "source": "# If we cannot find the substring in the string, the output is negative\n\nPapaString.find('Einstein')"
        },
        {
            "cell_type": "markdown",
            "metadata": {},
            "source": "# This concludes a basic overview of string operations, remember perfect practice makes perfect string \n-Alex Nguyen"
        }
    ],
    "metadata": {
        "kernelspec": {
            "display_name": "Python 3.9",
            "language": "python",
            "name": "python3"
        },
        "language_info": {
            "codemirror_mode": {
                "name": "ipython",
                "version": 3
            },
            "file_extension": ".py",
            "mimetype": "text/x-python",
            "name": "python",
            "nbconvert_exporter": "python",
            "pygments_lexer": "ipython3",
            "version": "3.9.7"
        }
    },
    "nbformat": 4,
    "nbformat_minor": 1
}